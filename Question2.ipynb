{
 "cells": [
  {
   "cell_type": "code",
   "execution_count": 36,
   "id": "26bd1082-d96b-499c-8396-38fafe80b366",
   "metadata": {},
   "outputs": [
    {
     "name": "stdout",
     "output_type": "stream",
     "text": [
      "Accuracy of the model: 0.75\n",
      "Accuracy of the model with random state = 0: 0.75\n",
      "Accuracy of the model with maximum depth = 3: 0.75\n",
      "Accuracy of the model with information criterion as entropy: 0.75\n"
     ]
    },
    {
     "name": "stderr",
     "output_type": "stream",
     "text": [
      "C:\\Users\\athit\\AppData\\Local\\Temp\\ipykernel_3348\\625411542.py:16: SettingWithCopyWarning: \n",
      "A value is trying to be set on a copy of a slice from a DataFrame.\n",
      "Try using .loc[row_indexer,col_indexer] = value instead\n",
      "\n",
      "See the caveats in the documentation: https://pandas.pydata.org/pandas-docs/stable/user_guide/indexing.html#returning-a-view-versus-a-copy\n",
      "  X['company'] = label_encoder.fit_transform(X['company'])\n",
      "C:\\Users\\athit\\AppData\\Local\\Temp\\ipykernel_3348\\625411542.py:17: SettingWithCopyWarning: \n",
      "A value is trying to be set on a copy of a slice from a DataFrame.\n",
      "Try using .loc[row_indexer,col_indexer] = value instead\n",
      "\n",
      "See the caveats in the documentation: https://pandas.pydata.org/pandas-docs/stable/user_guide/indexing.html#returning-a-view-versus-a-copy\n",
      "  X['job'] = label_encoder.fit_transform(X['job'])\n",
      "C:\\Users\\athit\\AppData\\Local\\Temp\\ipykernel_3348\\625411542.py:18: SettingWithCopyWarning: \n",
      "A value is trying to be set on a copy of a slice from a DataFrame.\n",
      "Try using .loc[row_indexer,col_indexer] = value instead\n",
      "\n",
      "See the caveats in the documentation: https://pandas.pydata.org/pandas-docs/stable/user_guide/indexing.html#returning-a-view-versus-a-copy\n",
      "  X['degree'] = label_encoder.fit_transform(X['degree'])\n"
     ]
    }
   ],
   "source": [
    "import pandas as pd\n",
    "from sklearn.preprocessing import LabelEncoder, StandardScaler\n",
    "from sklearn.model_selection import train_test_split\n",
    "from sklearn.tree import DecisionTreeClassifier\n",
    "from sklearn.metrics import accuracy_score\n",
    "\n",
    "\n",
    "data = pd.read_csv(\"salaries.csv\")\n",
    "\n",
    "# (a) \n",
    "X = data[['company', 'job', 'degree']]  # Independent variables\n",
    "Y = data['salary_more_then_100k']  # Target variable\n",
    "\n",
    "# (b) \n",
    "label_encoder = LabelEncoder()\n",
    "X['company'] = label_encoder.fit_transform(X['company'])\n",
    "X['job'] = label_encoder.fit_transform(X['job'])\n",
    "X['degree'] = label_encoder.fit_transform(X['degree'])\n",
    "\n",
    "# (c) \n",
    "X_train, X_test, Y_train, Y_test = train_test_split(X, Y, test_size=0.2, random_state=42)\n",
    "\n",
    "# (d) \n",
    "model = DecisionTreeClassifier()\n",
    "model.fit(X_train, Y_train)\n",
    "\n",
    "# (e) \n",
    "Y_pred = model.predict(X_test)\n",
    "\n",
    "# (f) \n",
    "accuracy = accuracy_score(Y_test, Y_pred)\n",
    "print(\"Accuracy of the model:\", accuracy)\n",
    "\n",
    "# (g)\n",
    "# i. Random state = 0\n",
    "model_rs = DecisionTreeClassifier(random_state=0)\n",
    "model_rs.fit(X_train, Y_train)\n",
    "Y_pred_rs = model_rs.predict(X_test)\n",
    "accuracy_rs = accuracy_score(Y_test, Y_pred_rs)\n",
    "print(\"Accuracy of the model with random state = 0:\", accuracy_rs)\n",
    "\n",
    "# ii. Maximum depth = 3\n",
    "model_md = DecisionTreeClassifier(max_depth=3)\n",
    "model_md.fit(X_train, Y_train)\n",
    "Y_pred_md = model_md.predict(X_test)\n",
    "accuracy_md = accuracy_score(Y_test, Y_pred_md)\n",
    "print(\"Accuracy of the model with maximum depth = 3:\", accuracy_md)\n",
    "\n",
    "# iii. Information criterion is entropy\n",
    "model_entropy = DecisionTreeClassifier(criterion='entropy')\n",
    "model_entropy.fit(X_train, Y_train)\n",
    "Y_pred_entropy = model_entropy.predict(X_test)\n",
    "accuracy_entropy = accuracy_score(Y_test, Y_pred_entropy)\n",
    "print(\"Accuracy of the model with information criterion as entropy:\", accuracy_entropy)\n",
    "\n",
    "# (h) \n",
    "\n",
    "employee_data = {'company': ['google'], 'job': ['business manager'], 'degree': ['bachelors']}\n",
    "employee_df = pd.DataFrame(employee_data)\n",
    "\n",
    "\n",
    "employee_df['company'] = label_encoder.transform(employee_df['company'])\n",
    "employee_df['job'] = label_encoder.transform(employee_df['job'])\n",
    "employee_df['degree'] = label_encoder.transform(employee_df['degree'])\n",
    "\n",
    "\n",
    "prediction = model.predict(employee_df)\n",
    "\n",
    "\n",
    "if prediction[0] == 1:\n",
    "    print(\"The predicted salary for the given employee is more than 100k.\")\n",
    "else:\n",
    "    print(\"The predicted salary for the given employee is not more than 100k.\")\n",
    "\n",
    "\n",
    "\n"
   ]
  },
  {
   "cell_type": "code",
   "execution_count": null,
   "id": "968cbaf3-0337-4cd4-a922-4b40f58e7cbe",
   "metadata": {},
   "outputs": [],
   "source": [
    "\n",
    "\n"
   ]
  },
  {
   "cell_type": "code",
   "execution_count": null,
   "id": "e275ad5e-0ce9-49ca-a042-5d70bb78f13d",
   "metadata": {},
   "outputs": [],
   "source": []
  }
 ],
 "metadata": {
  "kernelspec": {
   "display_name": "Python 3 (ipykernel)",
   "language": "python",
   "name": "python3"
  },
  "language_info": {
   "codemirror_mode": {
    "name": "ipython",
    "version": 3
   },
   "file_extension": ".py",
   "mimetype": "text/x-python",
   "name": "python",
   "nbconvert_exporter": "python",
   "pygments_lexer": "ipython3",
   "version": "3.11.5"
  }
 },
 "nbformat": 4,
 "nbformat_minor": 5
}
